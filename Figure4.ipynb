{
 "cells": [
  {
   "cell_type": "code",
   "execution_count": 1,
   "metadata": {},
   "outputs": [],
   "source": [
    "import numpy as np\n",
    "from obspy import read_events\n",
    "from obspy import read_inventory\n",
    "from obspy.clients.fdsn import Client\n",
    "client_wm = Client(\"IRIS\")\n",
    "from obspy.clients.iris import Client  \n",
    "from obspy.taup import TauPyModel\n",
    "from obspy import Stream, Trace\n",
    "import matplotlib.pyplot as plt\n",
    "from mpl_toolkits.basemap import Basemap\n",
    "from obspy import UTCDateTime\n",
    "import matplotlib.pyplot as plt\n",
    "from obspy.geodetics import locations2degrees,degrees2kilometers\n",
    "from scipy import signal\n",
    "plt.rc('font', size=10) \n",
    "%matplotlib widget\n",
    "import datetime\n",
    "from obspy.signal.trigger import recursive_sta_lta,plot_trigger,coincidence_trigger\n",
    "import pandas as pd\n",
    "from matplotlib.dates import date2num\n",
    "from obspy.imaging.util import (_set_xaxis_obspy_dates, _id_key, _timestring)\n",
    "from matplotlib.ticker import MaxNLocator, ScalarFormatter"
   ]
  },
  {
   "cell_type": "code",
   "execution_count": 2,
   "metadata": {},
   "outputs": [
    {
     "data": {
      "text/plain": [
       "1 Trace(s) in Stream:\n",
       "AK.SCRK..BHZ | 2020-09-01T00:00:00.008400Z - 2020-09-09T23:59:59.988400Z | 50.0 Hz, 38880000 samples"
      ]
     },
     "execution_count": 2,
     "metadata": {},
     "output_type": "execute_result"
    }
   ],
   "source": [
    "start_time=UTCDateTime(2020,9,1,0,0,0)\n",
    "end_time=UTCDateTime(2020,9,10,0,0,0)\n",
    "st_10day = client_wm.get_waveforms(\"AK\", \"SCRK\", \"*\", \"BHZ\", start_time, end_time)\n",
    "st_10day2=st_10day.copy()\n",
    "st_10day2.merge(method=0,fill_value=0)"
   ]
  },
  {
   "cell_type": "code",
   "execution_count": 3,
   "metadata": {},
   "outputs": [],
   "source": [
    "st_10day.write(\"SCRK_sep10Z.mseed\", format=\"MSEED\")  \n",
    "# from obspy import read \n",
    "# SCRK_sep10Z= read(\"*.mseed\") "
   ]
  },
  {
   "cell_type": "code",
   "execution_count": 7,
   "metadata": {},
   "outputs": [
    {
     "name": "stderr",
     "output_type": "stream",
     "text": [
      "/Users/yuantian/anaconda3/envs/obspy/lib/python3.7/site-packages/obspy/signal/filter.py:67: UserWarning: Selected high corner frequency (25) of bandpass is at or above Nyquist (25.0). Applying a high-pass instead.\n",
      "  warnings.warn(msg)\n"
     ]
    }
   ],
   "source": [
    "#trc=st_10day[0].detrend().filter('bandpass', freqmin=0.5,freqmax=25)\n",
    "\n",
    "trc=st_10day2[0].detrend().filter('bandpass', freqmin=0.5,freqmax=25)\n",
    "df = trc.stats.sampling_rate\n",
    "npts = trc.stats.npts\n",
    "t = np.arange(npts, dtype=np.float32) / df"
   ]
  },
  {
   "cell_type": "code",
   "execution_count": 8,
   "metadata": {},
   "outputs": [],
   "source": [
    "trace=trc.slice(starttime=start_time+470000,endtime=start_time+570000)"
   ]
  },
  {
   "cell_type": "code",
   "execution_count": 9,
   "metadata": {},
   "outputs": [],
   "source": [
    "def threshold_trigger(th,record_time,trace):\n",
    "    record_number=record_time*trace.stats.sampling_rate\n",
    "    abs_st_data=np.abs(trace.data)\n",
    "    ind_th=[]\n",
    "    recording=False\n",
    "    for i,abs_st in enumerate(abs_st_data):\n",
    "        if abs_st>th and recording is False:\n",
    "            ind_th.append(i)\n",
    "            recording=True\n",
    "        if ind_th!=[] and (i-ind_th[-1])>record_number:\n",
    "            recording=False\n",
    "    return len(ind_th),ind_th\n",
    "\n",
    "\n",
    "\n",
    "def event_associate(pre_time,after_time,cat_arl_t,t,ind_th,cat_arl_i):\n",
    "    n_recorded=0\n",
    "    index_triggered=[]\n",
    "    index_cat=[]\n",
    "    for i in ind_th:\n",
    "        for j,cat_t in enumerate(cat_arl_t):\n",
    "            if cat_t>t[i]-pre_time and cat_t<t[i]+after_time:\n",
    "                n_recorded=n_recorded+1\n",
    "                index_triggered.append(cat_arl_i[j])\n",
    "                index_cat.append(j)\n",
    "                break\n",
    "    return n_recorded,index_triggered,index_cat\n",
    "def threshold_trigger_w_avg(th_fold,record_time,trace,window_len):\n",
    "    record_number=record_time*trace.stats.sampling_rate\n",
    "    abs_st_data=np.abs(trace.data)\n",
    "    ind_th=[]\n",
    "    recording=False\n",
    "    rtt=0\n",
    "    cm_sum=0\n",
    "    ltavg=np.sum(abs_st_data[0:window_len])/window_len\n",
    "    for i,abs_st in enumerate(abs_st_data):\n",
    "        rtt=rtt+1\n",
    "        if rtt>window_len:\n",
    "            rtt=0\n",
    "            ltavg=cm_sum/window_len\n",
    "            #print(ltavg)\n",
    "            cm_sum=abs_st\n",
    "        cm_sum=cm_sum+abs_st\n",
    "        if abs_st>th_fold*ltavg and recording is False:\n",
    "            ind_th.append(i)\n",
    "            recording=True\n",
    "        if ind_th!=[] and (i-ind_th[-1])>record_number:\n",
    "            recording=False\n",
    "    return len(ind_th),ind_th"
   ]
  },
  {
   "cell_type": "code",
   "execution_count": 10,
   "metadata": {},
   "outputs": [],
   "source": [
    "th=120\n",
    "record_time=10*60 \n",
    "th_fold=20\n",
    "window_len=50*60*2\n",
    "n,ind_th=threshold_trigger(th,record_time,trace)\n",
    "n,ind_th2=threshold_trigger_w_avg(th_fold,record_time,trace,window_len)"
   ]
  },
  {
   "cell_type": "code",
   "execution_count": 11,
   "metadata": {},
   "outputs": [
    {
     "data": {
      "application/vnd.jupyter.widget-view+json": {
       "model_id": "69d432c2b69643898f43a87f0544abfe",
       "version_major": 2,
       "version_minor": 0
      },
      "text/plain": [
       "Canvas(toolbar=Toolbar(toolitems=[('Home', 'Reset original view', 'home', 'home'), ('Back', 'Back to previous …"
      ]
     },
     "metadata": {},
     "output_type": "display_data"
    },
    {
     "name": "stderr",
     "output_type": "stream",
     "text": [
      "/Users/yuantian/anaconda3/envs/obspy/lib/python3.7/site-packages/pandas/plotting/_matplotlib/converter.py:103: FutureWarning: Using an implicitly registered datetime converter for a matplotlib plotting method. The converter was registered by pandas on import. Future versions of pandas will require you to explicitly register matplotlib converters.\n",
      "\n",
      "To register the converters:\n",
      "\t>>> from pandas.plotting import register_matplotlib_converters\n",
      "\t>>> register_matplotlib_converters()\n",
      "  warnings.warn(msg, FutureWarning)\n"
     ]
    },
    {
     "name": "stdout",
     "output_type": "stream",
     "text": [
      "  agg_filter: a filter function, which takes a (m, n, 3) float array and a dpi value, and returns a (m, n, 3) array\n",
      "  alpha: float\n",
      "  animated: bool\n",
      "  backgroundcolor: color\n",
      "  bbox: dict with properties for `.patches.FancyBboxPatch`\n",
      "  clip_box: `.Bbox`\n",
      "  clip_on: bool\n",
      "  clip_path: [(`~matplotlib.path.Path`, `.Transform`) | `.Patch` | None]\n",
      "  color or c: color\n",
      "  contains: callable\n",
      "  figure: `.Figure`\n",
      "  fontfamily or family: {FONTNAME, 'serif', 'sans-serif', 'cursive', 'fantasy', 'monospace'}\n",
      "  fontproperties or font_properties: `.font_manager.FontProperties`\n",
      "  fontsize or size: {size in points, 'xx-small', 'x-small', 'small', 'medium', 'large', 'x-large', 'xx-large'}\n",
      "  fontstretch or stretch: {a numeric value in range 0-1000, 'ultra-condensed', 'extra-condensed', 'condensed', 'semi-condensed', 'normal', 'semi-expanded', 'expanded', 'extra-expanded', 'ultra-expanded'}\n",
      "  fontstyle or style: {'normal', 'italic', 'oblique'}\n",
      "  fontvariant or variant: {'normal', 'small-caps'}\n",
      "  fontweight or weight: {a numeric value in range 0-1000, 'ultralight', 'light', 'normal', 'regular', 'book', 'medium', 'roman', 'semibold', 'demibold', 'demi', 'bold', 'heavy', 'extra bold', 'black'}\n",
      "  gid: str\n",
      "  horizontalalignment or ha: {'center', 'right', 'left'}\n",
      "  in_layout: bool\n",
      "  label: object\n",
      "  linespacing: float (multiple of font size)\n",
      "  multialignment or ma: {'left', 'right', 'center'}\n",
      "  path_effects: `.AbstractPathEffect`\n",
      "  picker: None or bool or float or callable\n",
      "  position: (float, float)\n",
      "  rasterized: bool or None\n",
      "  rotation: {angle in degrees, 'vertical', 'horizontal'}\n",
      "  rotation_mode: {None, 'default', 'anchor'}\n",
      "  sketch_params: (scale: float, length: float, randomness: float)\n",
      "  snap: bool or None\n",
      "  text: object\n",
      "  transform: `.Transform`\n",
      "  url: str\n",
      "  usetex: bool or None\n",
      "  verticalalignment or va: {'center', 'top', 'bottom', 'baseline', 'center_baseline'}\n",
      "  visible: bool\n",
      "  wrap: bool\n",
      "  x: float\n",
      "  y: float\n",
      "  zorder: float\n",
      "  agg_filter: a filter function, which takes a (m, n, 3) float array and a dpi value, and returns a (m, n, 3) array\n",
      "  alpha: float\n",
      "  animated: bool\n",
      "  backgroundcolor: color\n",
      "  bbox: dict with properties for `.patches.FancyBboxPatch`\n",
      "  clip_box: `.Bbox`\n",
      "  clip_on: bool\n",
      "  clip_path: [(`~matplotlib.path.Path`, `.Transform`) | `.Patch` | None]\n",
      "  color or c: color\n",
      "  contains: callable\n",
      "  figure: `.Figure`\n",
      "  fontfamily or family: {FONTNAME, 'serif', 'sans-serif', 'cursive', 'fantasy', 'monospace'}\n",
      "  fontproperties or font_properties: `.font_manager.FontProperties`\n",
      "  fontsize or size: {size in points, 'xx-small', 'x-small', 'small', 'medium', 'large', 'x-large', 'xx-large'}\n",
      "  fontstretch or stretch: {a numeric value in range 0-1000, 'ultra-condensed', 'extra-condensed', 'condensed', 'semi-condensed', 'normal', 'semi-expanded', 'expanded', 'extra-expanded', 'ultra-expanded'}\n",
      "  fontstyle or style: {'normal', 'italic', 'oblique'}\n",
      "  fontvariant or variant: {'normal', 'small-caps'}\n",
      "  fontweight or weight: {a numeric value in range 0-1000, 'ultralight', 'light', 'normal', 'regular', 'book', 'medium', 'roman', 'semibold', 'demibold', 'demi', 'bold', 'heavy', 'extra bold', 'black'}\n",
      "  gid: str\n",
      "  horizontalalignment or ha: {'center', 'right', 'left'}\n",
      "  in_layout: bool\n",
      "  label: object\n",
      "  linespacing: float (multiple of font size)\n",
      "  multialignment or ma: {'left', 'right', 'center'}\n",
      "  path_effects: `.AbstractPathEffect`\n",
      "  picker: None or bool or float or callable\n",
      "  position: (float, float)\n",
      "  rasterized: bool or None\n",
      "  rotation: {angle in degrees, 'vertical', 'horizontal'}\n",
      "  rotation_mode: {None, 'default', 'anchor'}\n",
      "  sketch_params: (scale: float, length: float, randomness: float)\n",
      "  snap: bool or None\n",
      "  text: object\n",
      "  transform: `.Transform`\n",
      "  url: str\n",
      "  usetex: bool or None\n",
      "  verticalalignment or va: {'center', 'top', 'bottom', 'baseline', 'center_baseline'}\n",
      "  visible: bool\n",
      "  wrap: bool\n",
      "  x: float\n",
      "  y: float\n",
      "  zorder: float\n"
     ]
    }
   ],
   "source": [
    "fig2 = plt.figure(figsize=(8, 4))\n",
    "SECONDS_PER_DAY=3600*24\n",
    "x_values = ((trace.times() / SECONDS_PER_DAY) +date2num(trace.stats.starttime.datetime))\n",
    "ax = fig2.add_subplot(211)\n",
    "_set_xaxis_obspy_dates(ax)\n",
    "plt.plot(x_values,trace.data)\n",
    "ii,jj =ax.get_ylim()\n",
    "\n",
    "plt.setp(ax.get_xticklabels())\n",
    "plt.ylabel('amplitude (nm/s)')\n",
    "for i in ind_th:\n",
    "    ax.vlines(x_values[i], ii,jj, color='r', lw=2)\n",
    "\n",
    "ax2 = fig2.add_subplot(212)\n",
    "_set_xaxis_obspy_dates(ax2)\n",
    "plt.plot(x_values,trace.data)\n",
    "ii,jj =ax2.get_ylim()\n",
    "\n",
    "plt.setp(ax2.get_xticklabels())\n",
    "plt.ylabel('amplitude (nm/s)')\n",
    "for i in ind_th2:\n",
    "    ax2.vlines(x_values[i], ii,jj, color='r', lw=2)"
   ]
  },
  {
   "cell_type": "code",
   "execution_count": 12,
   "metadata": {},
   "outputs": [
    {
     "data": {
      "application/vnd.jupyter.widget-view+json": {
       "model_id": "318e34764a3c40789ed10c3817a9bdb7",
       "version_major": 2,
       "version_minor": 0
      },
      "text/plain": [
       "Canvas(toolbar=Toolbar(toolitems=[('Home', 'Reset original view', 'home', 'home'), ('Back', 'Back to previous …"
      ]
     },
     "metadata": {},
     "output_type": "display_data"
    },
    {
     "data": {
      "image/png": "[encoded data removed]",
      "text/plain": [
       "<Figure size 800x250 with 1 Axes>"
      ]
     },
     "execution_count": 12,
     "metadata": {},
     "output_type": "execute_result"
    }
   ],
   "source": [
    "trc.plot(starttime=start_time+3000,endtime=start_time+4200)"
   ]
  }
 ],
 "metadata": {
  "interpreter": {
   "hash": "053dc3b0a894b7eb257a1e45fdc32da76da9863afb1526d2fc5c429f06d38699"
  },
  "kernelspec": {
   "display_name": "Python 3.7.3 64-bit ('obspy': conda)",
   "name": "python3"
  },
  "language_info": {
   "codemirror_mode": {
    "name": "ipython",
    "version": 3
   },
   "file_extension": ".py",
   "mimetype": "text/x-python",
   "name": "python",
   "nbconvert_exporter": "python",
   "pygments_lexer": "ipython3",
   "version": "3.7.3"
  },
  "orig_nbformat": 2
 },
 "nbformat": 4,
 "nbformat_minor": 2
}
