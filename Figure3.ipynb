{
    "cells": [
        {
            "cell_type": "code",
            "execution_count": 1,
            "metadata": {},
            "outputs": [],
            "source": [
                "import numpy as np\n",
                "from obspy import read_events\n",
                "from obspy import read_inventory\n",
                "from obspy.clients.fdsn import Client\n",
                "client_wm = Client(\"IRIS\")\n",
                "from obspy.clients.iris import Client  \n",
                "from obspy.taup import TauPyModel\n",
                "from obspy import Stream, Trace\n",
                "import matplotlib.pyplot as plt\n",
                "from mpl_toolkits.basemap import Basemap\n",
                "from obspy import UTCDateTime\n",
                "import matplotlib.pyplot as plt\n",
                "from obspy.geodetics import locations2degrees,degrees2kilometers\n",
                "from scipy import signal\n",
                "plt.rc('font', size=10) \n",
                "%matplotlib widget\n",
                "import datetime\n",
                "from obspy.signal.trigger import recursive_sta_lta,plot_trigger,coincidence_trigger\n",
                "import pandas as pd\n",
                "from matplotlib.dates import date2num\n",
                "from obspy.imaging.util import (_set_xaxis_obspy_dates, _id_key, _timestring)\n",
                "from matplotlib.ticker import MaxNLocator, ScalarFormatter"
            ]
        },
        {
            "cell_type": "code",
            "execution_count": 4,
            "metadata": {},
            "outputs": [],
            "source": [
                "evid_dum='https://earthquake.usgs.gov/fdsnws/event/1/query?&starttime=2021-09-13&endtime=2021-09-14&latitude=67&longitude=-145&maxradius=5'"
            ]
        },
        {
            "cell_type": "code",
            "execution_count": 5,
            "metadata": {},
            "outputs": [],
            "source": [
                "cat_dum = read_events(evid_dum)\n"
            ]
        },
        {
            "cell_type": "code",
            "execution_count": 7,
            "metadata": {},
            "outputs": [],
            "source": [
                "start_time=UTCDateTime(2020,9,1,0,0,0)\n",
                "end_time=UTCDateTime(2020,9,1,12,0,0)\n",
                "st_10day = client_wm.get_waveforms(\"AK\", \"SCRK\", \"*\", \"BHZ\", start_time, end_time)\n"
            ]
        },
        {
            "cell_type": "code",
            "execution_count": 12,
            "metadata": {},
            "outputs": [
                {
                    "name": "stderr",
                    "output_type": "stream",
                    "text": [
                        "/Users/yuantian/anaconda3/envs/obspy/lib/python3.7/site-packages/obspy/signal/filter.py:67: UserWarning: Selected high corner frequency (25) of bandpass is at or above Nyquist (25.0). Applying a high-pass instead.\n",
                        "  warnings.warn(msg)\n"
                    ]
                }
            ],
            "source": [
                "trc=st_10day[0].detrend().filter('bandpass', freqmin=0.5,freqmax=25)\n",
                "#trc=st_10day[0].detrend()"
            ]
        },
        {
            "cell_type": "code",
            "execution_count": 75,
            "metadata": {},
            "outputs": [
                {
                    "name": "stderr",
                    "output_type": "stream",
                    "text": [
                        "/Users/yuantian/anaconda3/envs/obspy/lib/python3.7/site-packages/ipykernel_launcher.py:4: RuntimeWarning: More than 20 figures have been opened. Figures created through the pyplot interface (`matplotlib.pyplot.figure`) are retained until explicitly closed and may consume too much memory. (To control this warning, see the rcParam `figure.max_open_warning`).\n",
                        "  after removing the cwd from sys.path.\n"
                    ]
                },
                {
                    "data": {
                        "application/vnd.jupyter.widget-view+json": {
                            "model_id": "0a82206e53704acda0b7d60a646e34ed",
                            "version_major": 2,
                            "version_minor": 0
                        },
                        "text/plain": [
                            "Canvas(toolbar=Toolbar(toolitems=[('Home', 'Reset original view', 'home', 'home'), ('Back', 'Back to previous …"
                        ]
                    },
                    "metadata": {},
                    "output_type": "display_data"
                },
                {
                    "name": "stdout",
                    "output_type": "stream",
                    "text": [
                        "  agg_filter: a filter function, which takes a (m, n, 3) float array and a dpi value, and returns a (m, n, 3) array\n",
                        "  alpha: float\n",
                        "  animated: bool\n",
                        "  backgroundcolor: color\n",
                        "  bbox: dict with properties for `.patches.FancyBboxPatch`\n",
                        "  clip_box: `.Bbox`\n",
                        "  clip_on: bool\n",
                        "  clip_path: [(`~matplotlib.path.Path`, `.Transform`) | `.Patch` | None]\n",
                        "  color or c: color\n",
                        "  contains: callable\n",
                        "  figure: `.Figure`\n",
                        "  fontfamily or family: {FONTNAME, 'serif', 'sans-serif', 'cursive', 'fantasy', 'monospace'}\n",
                        "  fontproperties or font_properties: `.font_manager.FontProperties`\n",
                        "  fontsize or size: {size in points, 'xx-small', 'x-small', 'small', 'medium', 'large', 'x-large', 'xx-large'}\n",
                        "  fontstretch or stretch: {a numeric value in range 0-1000, 'ultra-condensed', 'extra-condensed', 'condensed', 'semi-condensed', 'normal', 'semi-expanded', 'expanded', 'extra-expanded', 'ultra-expanded'}\n",
                        "  fontstyle or style: {'normal', 'italic', 'oblique'}\n",
                        "  fontvariant or variant: {'normal', 'small-caps'}\n",
                        "  fontweight or weight: {a numeric value in range 0-1000, 'ultralight', 'light', 'normal', 'regular', 'book', 'medium', 'roman', 'semibold', 'demibold', 'demi', 'bold', 'heavy', 'extra bold', 'black'}\n",
                        "  gid: str\n",
                        "  horizontalalignment or ha: {'center', 'right', 'left'}\n",
                        "  in_layout: bool\n",
                        "  label: object\n",
                        "  linespacing: float (multiple of font size)\n",
                        "  multialignment or ma: {'left', 'right', 'center'}\n",
                        "  path_effects: `.AbstractPathEffect`\n",
                        "  picker: None or bool or float or callable\n",
                        "  position: (float, float)\n",
                        "  rasterized: bool or None\n",
                        "  rotation: {angle in degrees, 'vertical', 'horizontal'}\n",
                        "  rotation_mode: {None, 'default', 'anchor'}\n",
                        "  sketch_params: (scale: float, length: float, randomness: float)\n",
                        "  snap: bool or None\n",
                        "  text: object\n",
                        "  transform: `.Transform`\n",
                        "  url: str\n",
                        "  usetex: bool or None\n",
                        "  verticalalignment or va: {'center', 'top', 'bottom', 'baseline', 'center_baseline'}\n",
                        "  visible: bool\n",
                        "  wrap: bool\n",
                        "  x: float\n",
                        "  y: float\n",
                        "  zorder: float\n",
                        "  agg_filter: a filter function, which takes a (m, n, 3) float array and a dpi value, and returns a (m, n, 3) array\n",
                        "  alpha: float\n",
                        "  animated: bool\n",
                        "  backgroundcolor: color\n",
                        "  bbox: dict with properties for `.patches.FancyBboxPatch`\n",
                        "  clip_box: `.Bbox`\n",
                        "  clip_on: bool\n",
                        "  clip_path: [(`~matplotlib.path.Path`, `.Transform`) | `.Patch` | None]\n",
                        "  color or c: color\n",
                        "  contains: callable\n",
                        "  figure: `.Figure`\n",
                        "  fontfamily or family: {FONTNAME, 'serif', 'sans-serif', 'cursive', 'fantasy', 'monospace'}\n",
                        "  fontproperties or font_properties: `.font_manager.FontProperties`\n",
                        "  fontsize or size: {size in points, 'xx-small', 'x-small', 'small', 'medium', 'large', 'x-large', 'xx-large'}\n",
                        "  fontstretch or stretch: {a numeric value in range 0-1000, 'ultra-condensed', 'extra-condensed', 'condensed', 'semi-condensed', 'normal', 'semi-expanded', 'expanded', 'extra-expanded', 'ultra-expanded'}\n",
                        "  fontstyle or style: {'normal', 'italic', 'oblique'}\n",
                        "  fontvariant or variant: {'normal', 'small-caps'}\n",
                        "  fontweight or weight: {a numeric value in range 0-1000, 'ultralight', 'light', 'normal', 'regular', 'book', 'medium', 'roman', 'semibold', 'demibold', 'demi', 'bold', 'heavy', 'extra bold', 'black'}\n",
                        "  gid: str\n",
                        "  horizontalalignment or ha: {'center', 'right', 'left'}\n",
                        "  in_layout: bool\n",
                        "  label: object\n",
                        "  linespacing: float (multiple of font size)\n",
                        "  multialignment or ma: {'left', 'right', 'center'}\n",
                        "  path_effects: `.AbstractPathEffect`\n",
                        "  picker: None or bool or float or callable\n",
                        "  position: (float, float)\n",
                        "  rasterized: bool or None\n",
                        "  rotation: {angle in degrees, 'vertical', 'horizontal'}\n",
                        "  rotation_mode: {None, 'default', 'anchor'}\n",
                        "  sketch_params: (scale: float, length: float, randomness: float)\n",
                        "  snap: bool or None\n",
                        "  text: object\n",
                        "  transform: `.Transform`\n",
                        "  url: str\n",
                        "  usetex: bool or None\n",
                        "  verticalalignment or va: {'center', 'top', 'bottom', 'baseline', 'center_baseline'}\n",
                        "  visible: bool\n",
                        "  wrap: bool\n",
                        "  x: float\n",
                        "  y: float\n",
                        "  zorder: float\n"
                    ]
                },
                {
                    "data": {
                        "text/plain": [
                            "<matplotlib.legend.Legend at 0x7fca8fc25438>"
                        ]
                    },
                    "execution_count": 75,
                    "metadata": {},
                    "output_type": "execute_result"
                }
            ],
            "source": [
                "SECONDS_PER_DAY=3600*24\n",
                "trace=trc.slice(starttime=start_time+3000,endtime=start_time+4200)\n",
                "x_values = ((trace.times() / SECONDS_PER_DAY) +date2num(trace.stats.starttime.datetime))\n",
                "fig2 = plt.figure(figsize=(12,5))\n",
                "df = trace.stats.sampling_rate\n",
                "npts = trace.stats.npts\n",
                "#t = np.arange(npts, dtype=np.float32) / df\n",
                "ax = fig2.add_subplot(211)\n",
                "_set_xaxis_obspy_dates(ax)\n",
                "l3,=plt.plot(x_values,trace.data,label='displacement')\n",
                "plt.setp(ax.get_xticklabels())\n",
                "ax.text(0.02, 0.95, trace.id, transform=ax.transAxes,fontdict=dict(fontsize=\"small\", ha='left', va='top'),bbox=dict(boxstyle=\"round\", fc=\"w\", alpha=0.8))\n",
                "plt.setp(ax.get_yticklabels(), fontsize='small')\n",
                "ax.yaxis.set_major_locator(MaxNLocator(7, prune=\"both\"))\n",
                "ax.yaxis.set_major_formatter(ScalarFormatter())\n",
                "\n",
                "th_fold=10\n",
                "window_len=50*60*2\n",
                "record_time=30*60\n",
                "record_number=record_time*trace.stats.sampling_rate\n",
                "abs_st_data=np.abs(trace.data)\n",
                "ind_th=[]\n",
                "recording=False\n",
                "rtt=0\n",
                "t_stp=0\n",
                "cm_sum=0\n",
                "ltavg=np.sum(abs_st_data[0:window_len])/window_len\n",
                "window_v=[]\n",
                "cm_sum_s=[]\n",
                "ur_a=[]\n",
                "for i,abs_st in enumerate(abs_st_data):\n",
                "    rtt=rtt+1\n",
                "    t_stp=t_stp+1\n",
                "    if rtt>window_len:\n",
                "        rtt=0\n",
                "        ltavg=cm_sum/window_len\n",
                "        #print(ltavg)\n",
                "        cm_sum=abs_st\n",
                "        plt.plot([x_values[t_stp-1],x_values[t_stp-1]],[300,-200],'r--',label='window boundary')\n",
                "    cm_sum=cm_sum+abs_st\n",
                "    cm_sum_s.append(cm_sum/window_len*th_fold)\n",
                "    window_v.append(th_fold*ltavg)\n",
                "    ur_a.append(abs_st/ltavg)\n",
                "    if abs_st>th_fold*ltavg and recording is False:\n",
                "        ind_th.append(i)\n",
                "        recording=True\n",
                "    if ind_th!=[] and (i-ind_th[-1])>record_number:\n",
                "        recording=False\n",
                "l2,=plt.plot(x_values,window_v,'g-',label=r'$R*\\overline{|u_{n}|}$  (R=10)')\n",
                "l4,=plt.plot(x_values,cm_sum_s,'b-',label=r'running summation of $R*|u_{ti}|$')\n",
                "#plt.legend(handles=[l2])\n",
                "\n",
                "plt.legend(handles=[l3,l2,l4],loc=1)\n",
                "\n",
                "ax = fig2.add_subplot(212)\n",
                "_set_xaxis_obspy_dates(ax)\n",
                "plt.plot(x_values,ur_a)\n",
                "plt.setp(ax.get_xticklabels())\n",
                "ax.text(0.02, 0.95, trace.id, transform=ax.transAxes,fontdict=dict(fontsize=\"small\", ha='left', va='top'),bbox=dict(boxstyle=\"round\", fc=\"w\", alpha=0.8))\n",
                "plt.setp(ax.get_yticklabels(), fontsize='small')\n",
                "ax.yaxis.set_major_locator(MaxNLocator(7, prune=\"both\"))\n",
                "ax.yaxis.set_major_formatter(ScalarFormatter())\n",
                "plt.plot(x_values,np.ones_like(x_values)*10,'g-')\n",
                "plt.legend([r'displacement ratio $|u|/{\\overline{|u_{n}|}}$','R'])"
            ]
        },
        {
            "cell_type": "code",
            "execution_count": null,
            "metadata": {},
            "outputs": [],
            "source": []
        }
    ],
    "metadata": {
        "interpreter": {
            "hash": "c71a260edab3fcf64a811359c50653f22ebe325a9efcb1a4563b0bac5f87d06d"
        },
        "kernelspec": {
            "display_name": "Python 3.7.3 ('obspy')",
            "language": "python",
            "name": "python3"
        },
        "language_info": {
            "codemirror_mode": {
                "name": "ipython",
                "version": 3
            },
            "file_extension": ".py",
            "mimetype": "text/x-python",
            "name": "python",
            "nbconvert_exporter": "python",
            "pygments_lexer": "ipython3",
            "version": "3.7.3"
        },
        "orig_nbformat": 4
    },
    "nbformat": 4,
    "nbformat_minor": 2
}
