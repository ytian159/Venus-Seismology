{
 "cells": [
  {
   "cell_type": "code",
   "execution_count": 1,
   "metadata": {},
   "outputs": [],
   "source": [
    "import numpy as np\n",
    "from obspy import read_events\n",
    "from obspy import read_inventory\n",
    "from obspy.clients.fdsn import Client\n",
    "client_wm = Client(\"IRIS\")\n",
    "from obspy.clients.iris import Client  \n",
    "from obspy.taup import TauPyModel\n",
    "from obspy import Stream, Trace\n",
    "import matplotlib.pyplot as plt\n",
    "from mpl_toolkits.basemap import Basemap\n",
    "from obspy import UTCDateTime\n",
    "import matplotlib.pyplot as plt\n",
    "from obspy.geodetics import locations2degrees,degrees2kilometers\n",
    "from scipy import signal\n",
    "plt.rc('font', size=10) \n",
    "%matplotlib widget\n",
    "import datetime\n",
    "from obspy.signal.trigger import recursive_sta_lta,plot_trigger,coincidence_trigger\n",
    "import pandas as pd"
   ]
  },
  {
   "cell_type": "code",
   "execution_count": 2,
   "metadata": {},
   "outputs": [
    {
     "name": "stderr",
     "output_type": "stream",
     "text": [
      "/Users/yuantian/anaconda3/envs/obspy/lib/python3.7/site-packages/obspy/signal/filter.py:67: UserWarning: Selected high corner frequency (25.0) of bandpass is at or above Nyquist (25.0). Applying a high-pass instead.\n",
      "  warnings.warn(msg)\n"
     ]
    }
   ],
   "source": [
    "inv0 = client_wm.get_stations(\n",
    "    channel=\"BH*\", starttime=UTCDateTime(2020,9,1,0,0,0),endtime=UTCDateTime(2020,10,1,0,0,0),\n",
    "    network=\"AK\", sta=\"SCRK,J25K,K27K\",\n",
    "    level=\"response\")\n",
    "the_station=inv0[0][2]\n",
    "evid_dum='https://earthquake.usgs.gov/fdsnws/event/1/query?&starttime=2020-09-01&endtime=2020-9-10&latitude=63.98&longitude=-143.99&maxradius=4&minmagnitude=0'\n",
    "cat1 = read_events(evid_dum)\n",
    "evid_dum='https://earthquake.usgs.gov/fdsnws/event/1/query?&starttime=2020-09-01&endtime=2020-9-10&latitude=63.98&longitude=-143.99&minradius=4&maxradius=8&minmagnitude=1'\n",
    "cat2 = read_events(evid_dum)\n",
    "evid_dum='https://earthquake.usgs.gov/fdsnws/event/1/query?&starttime=2020-09-01&endtime=2020-9-10&latitude=63.98&longitude=-143.99&minradius=8&maxradius=20&minmagnitude=2'\n",
    "cat3 = read_events(evid_dum)\n",
    "evid_dum='https://earthquake.usgs.gov/fdsnws/event/1/query?&starttime=2020-09-01&endtime=2020-9-10&latitude=63.98&longitude=-143.99&minradius=20&maxradius=100&minmagnitude=3'\n",
    "cat4 = read_events(evid_dum)\n",
    "evid_dum='https://earthquake.usgs.gov/fdsnws/event/1/query?&starttime=2020-09-01&endtime=2020-9-10&latitude=63.98&longitude=-143.99&minradius=100&maxradius=180&minmagnitude=4'\n",
    "cat5 = read_events(evid_dum)\n",
    "cat_all=cat1+cat2+cat3+cat4+cat5\n",
    "channel = \"BHZ\"\n",
    "start_time=UTCDateTime(2020,9,1,0,0,0)\n",
    "end_time=UTCDateTime(2020,9,10,0,0,0)\n",
    "#st_2day = client_wm.get_waveforms(\"AK\", \"SCRK,K27K,J25K\", \"*\", \"BHZ\", start_time, end_time)\n",
    "st_10day = client_wm.get_waveforms(\"AK\", \"SCRK\", \"*\", \"BHZ\", start_time, end_time)\n",
    "EQ_data=pd.read_csv(\"detections/SCRK_outputs/X_prediction_results.csv\")\n",
    "eq_arv_t=EQ_data['event_start_time']\n",
    "eq_arv_s_t=EQ_data['s_arrival_time']\n",
    "st_10day2=st_10day.copy()\n",
    "st_10day2.merge(method=0,fill_value=0)\n",
    "st_10day2.detrend()\n",
    "st_10day2.filter('bandpass',freqmin=0.8, freqmax=25.0)\n",
    "trace=st_10day2[0]\n",
    "model = TauPyModel(model=\"prem\")\n",
    "df = trace.stats.sampling_rate\n",
    "npts = trace.stats.npts\n",
    "t = np.arange(npts, dtype=np.float32) / df\n",
    "cft = recursive_sta_lta(trace.data, int(5 * df), int(10 * df))\n",
    "eqt_array=[]\n",
    "for eqtm in eq_arv_t:\n",
    "    dumt=UTCDateTime(eqtm)\n",
    "    #ax.vlines(dumt-trace.stats.starttime, ii,jj, color='y',linestyles='dashdot', lw=3)\n",
    "    eqt_array.append(dumt-trace.stats.starttime)\n",
    "    picker_time_a=[]\n",
    "for event in cat_all:\n",
    "    disD=locations2degrees(the_station.latitude,the_station.longitude,event.origins[0].latitude,event.origins[0].longitude)\n",
    "    if event.origins[0].depth<0:\n",
    "        event.origins[0].depth=0\n",
    "    arrivals = model.get_travel_times(source_depth_in_km=event.origins[0].depth/1000,\n",
    "                                  distance_in_degree=disD)    \n",
    "    picker_time_a.append(event.origins[0].time+arrivals[0].time-trace.stats.starttime)"
   ]
  },
  {
   "cell_type": "code",
   "execution_count": 3,
   "metadata": {},
   "outputs": [],
   "source": [
    "max_search_range_b=10\n",
    "max_search_range_a=30\n",
    "cft_thr=1.35\n",
    "# fig = plt.figure(figsize=(10, 5))\n",
    "# ax = fig.add_subplot(211)\n",
    "# plt.plot(t,trace.data,'k')\n",
    "#plt.rc('font', size=20)   \n",
    "#a,b =ax.get_xlim()\n",
    "#ii,jj =ax.get_ylim()\n",
    "sel_cat_list=[]\n",
    "#ax.set_xlim(0,100000)\n",
    "lij=-1\n",
    "for event in cat_all:\n",
    "    lij=lij+1\n",
    "    disD=locations2degrees(the_station.latitude,the_station.longitude,event.origins[0].latitude,event.origins[0].longitude)\n",
    "    picker_time=picker_time_a[lij]\n",
    "    t0=int(picker_time/trace.stats.delta)\n",
    "    tarray=range(int(t0-max_search_range_b*trace.stats.sampling_rate),int(t0+max_search_range_a*trace.stats.sampling_rate))\n",
    "    try:\n",
    "        if np.max(cft[tarray])>cft_thr:\n",
    "            #ax.vlines(picker_time, ii,jj, color='r', lw=3)\n",
    "            sel_cat_list.append(event)\n",
    "            #ax.text(picker_time,20,\"dis=%.2f \\n mag=%.2f \" % (disD,event.magnitudes[0].mag))\n",
    "            # if flag==0:\n",
    "            #     cat_all_sel=event\n",
    "            #     flag=1\n",
    "            # else:\n",
    "            #     cat_all_sel=cat_all_sel+event\n",
    "    except Exception:\n",
    "        continue\n",
    "    \n",
    "#     ax.vlines(picker_time, ii,jj, color='b', lw=2,linestyles='dashed',label=\"event origin time\")\n",
    "\n",
    "# for eqtm in eq_arv_t:\n",
    "#     dumt=UTCDateTime(eqtm)\n",
    "#     ax.vlines(dumt-trace.stats.starttime, ii,jj, color='y',linestyles='dashdot', lw=3)\n",
    "\n",
    "# ax2 = fig.add_subplot(212,sharex=ax)\n",
    "# plt.plot(t,cft,'k')\n",
    "# ax2.hlines(cft_thr,0,2000000, color='r')\n",
    "# ax2.set_title('Recursive STA/LTA')\n",
    "# ax2.set_xlabel(\"Time after %s [s]\" % trace.stats.starttime.isoformat())\n",
    "# plt.subplots_adjust(hspace=0.3)"
   ]
  },
  {
   "cell_type": "code",
   "execution_count": 4,
   "metadata": {},
   "outputs": [],
   "source": [
    "for i,event in enumerate(sel_cat_list):\n",
    "    if i==0:\n",
    "        dum=cat_all[0:1]\n",
    "        dum.clear()\n",
    "        all_sel_event=dum+event\n",
    "    else:\n",
    "        all_sel_event=all_sel_event+event\n",
    "lij=-1\n",
    "eqt_max_time=25\n",
    "for i,picker_time in enumerate(picker_time_a):\n",
    "    if np.abs(np.array(eqt_array)-picker_time).min()<eqt_max_time:\n",
    "        lij=lij+1\n",
    "        if lij==0:\n",
    "            dum=cat_all[0:1]\n",
    "            dum.clear()\n",
    "            eqt_sel_event=dum+cat_all[i]\n",
    "        else:\n",
    "            eqt_sel_event=eqt_sel_event+cat_all[i]\n",
    "eqtpall_sel_event=all_sel_event+eqt_sel_event\n",
    "event_in_list=[]\n",
    "for event in eqtpall_sel_event:\n",
    "    disD=locations2degrees(the_station.latitude,the_station.longitude,event.origins[0].latitude,event.origins[0].longitude)\n",
    "    event_list=[event.origins[0].longitude,event.origins[0].latitude,event.origins[0].depth,event.magnitudes[0].mag,disD,event.event_type,event.origins[0].time]\n",
    "    event_in_list.append(event_list)\n",
    "eqtpall_sel_event_pd=pd.DataFrame(event_in_list,columns=['longitude','latitude','depth','magnitude','disD','event_type','time'])\n",
    "bh_catalog=eqtpall_sel_event_pd.drop_duplicates(subset=['longitude','latitude','magnitude'])"
   ]
  },
  {
   "cell_type": "code",
   "execution_count": 5,
   "metadata": {},
   "outputs": [
    {
     "data": {
      "text/html": [
       "<div>\n",
       "<style scoped>\n",
       "    .dataframe tbody tr th:only-of-type {\n",
       "        vertical-align: middle;\n",
       "    }\n",
       "\n",
       "    .dataframe tbody tr th {\n",
       "        vertical-align: top;\n",
       "    }\n",
       "\n",
       "    .dataframe thead th {\n",
       "        text-align: right;\n",
       "    }\n",
       "</style>\n",
       "<table border=\"1\" class=\"dataframe\">\n",
       "  <thead>\n",
       "    <tr style=\"text-align: right;\">\n",
       "      <th></th>\n",
       "      <th>longitude</th>\n",
       "      <th>latitude</th>\n",
       "      <th>depth</th>\n",
       "      <th>magnitude</th>\n",
       "      <th>disD</th>\n",
       "      <th>event_type</th>\n",
       "      <th>time</th>\n",
       "    </tr>\n",
       "  </thead>\n",
       "  <tbody>\n",
       "    <tr>\n",
       "      <th>0</th>\n",
       "      <td>-146.8571</td>\n",
       "      <td>62.8881</td>\n",
       "      <td>44100.0</td>\n",
       "      <td>2.0</td>\n",
       "      <td>1.681262</td>\n",
       "      <td>earthquake</td>\n",
       "      <td>2020-09-09T19:12:06.535000Z</td>\n",
       "    </tr>\n",
       "    <tr>\n",
       "      <th>1</th>\n",
       "      <td>-146.8485</td>\n",
       "      <td>62.8784</td>\n",
       "      <td>45600.0</td>\n",
       "      <td>2.5</td>\n",
       "      <td>1.684798</td>\n",
       "      <td>earthquake</td>\n",
       "      <td>2020-09-09T19:02:13.756000Z</td>\n",
       "    </tr>\n",
       "    <tr>\n",
       "      <th>2</th>\n",
       "      <td>-147.7625</td>\n",
       "      <td>63.5276</td>\n",
       "      <td>10800.0</td>\n",
       "      <td>0.8</td>\n",
       "      <td>1.727156</td>\n",
       "      <td>earthquake</td>\n",
       "      <td>2020-09-09T15:29:05.744000Z</td>\n",
       "    </tr>\n",
       "    <tr>\n",
       "      <th>3</th>\n",
       "      <td>-148.3746</td>\n",
       "      <td>63.7534</td>\n",
       "      <td>84600.0</td>\n",
       "      <td>1.2</td>\n",
       "      <td>1.943567</td>\n",
       "      <td>earthquake</td>\n",
       "      <td>2020-09-09T11:12:10.065000Z</td>\n",
       "    </tr>\n",
       "    <tr>\n",
       "      <th>4</th>\n",
       "      <td>-149.0041</td>\n",
       "      <td>62.7214</td>\n",
       "      <td>62500.0</td>\n",
       "      <td>2.4</td>\n",
       "      <td>2.574223</td>\n",
       "      <td>earthquake</td>\n",
       "      <td>2020-09-09T10:00:10.896000Z</td>\n",
       "    </tr>\n",
       "    <tr>\n",
       "      <th>...</th>\n",
       "      <td>...</td>\n",
       "      <td>...</td>\n",
       "      <td>...</td>\n",
       "      <td>...</td>\n",
       "      <td>...</td>\n",
       "      <td>...</td>\n",
       "      <td>...</td>\n",
       "    </tr>\n",
       "    <tr>\n",
       "      <th>199</th>\n",
       "      <td>-71.3062</td>\n",
       "      <td>-27.9686</td>\n",
       "      <td>21000.0</td>\n",
       "      <td>6.8</td>\n",
       "      <td>107.824508</td>\n",
       "      <td>earthquake</td>\n",
       "      <td>2020-09-01T04:09:28.470000Z</td>\n",
       "    </tr>\n",
       "    <tr>\n",
       "      <th>204</th>\n",
       "      <td>-139.7911</td>\n",
       "      <td>64.8705</td>\n",
       "      <td>7600.0</td>\n",
       "      <td>1.2</td>\n",
       "      <td>2.021046</td>\n",
       "      <td>earthquake</td>\n",
       "      <td>2020-09-09T02:02:00.010000Z</td>\n",
       "    </tr>\n",
       "    <tr>\n",
       "      <th>206</th>\n",
       "      <td>-147.7667</td>\n",
       "      <td>64.7974</td>\n",
       "      <td>11700.0</td>\n",
       "      <td>0.9</td>\n",
       "      <td>1.827003</td>\n",
       "      <td>earthquake</td>\n",
       "      <td>2020-09-07T21:47:51.243000Z</td>\n",
       "    </tr>\n",
       "    <tr>\n",
       "      <th>217</th>\n",
       "      <td>-141.8599</td>\n",
       "      <td>65.8902</td>\n",
       "      <td>10800.0</td>\n",
       "      <td>2.0</td>\n",
       "      <td>2.115990</td>\n",
       "      <td>earthquake</td>\n",
       "      <td>2020-09-04T23:44:01.585000Z</td>\n",
       "    </tr>\n",
       "    <tr>\n",
       "      <th>234</th>\n",
       "      <td>-152.0282</td>\n",
       "      <td>61.0431</td>\n",
       "      <td>97100.0</td>\n",
       "      <td>1.9</td>\n",
       "      <td>4.723777</td>\n",
       "      <td>earthquake</td>\n",
       "      <td>2020-09-08T11:59:14.009000Z</td>\n",
       "    </tr>\n",
       "  </tbody>\n",
       "</table>\n",
       "<p>204 rows × 7 columns</p>\n",
       "</div>"
      ],
      "text/plain": [
       "     longitude  latitude    depth  magnitude        disD  event_type  \\\n",
       "0    -146.8571   62.8881  44100.0        2.0    1.681262  earthquake   \n",
       "1    -146.8485   62.8784  45600.0        2.5    1.684798  earthquake   \n",
       "2    -147.7625   63.5276  10800.0        0.8    1.727156  earthquake   \n",
       "3    -148.3746   63.7534  84600.0        1.2    1.943567  earthquake   \n",
       "4    -149.0041   62.7214  62500.0        2.4    2.574223  earthquake   \n",
       "..         ...       ...      ...        ...         ...         ...   \n",
       "199   -71.3062  -27.9686  21000.0        6.8  107.824508  earthquake   \n",
       "204  -139.7911   64.8705   7600.0        1.2    2.021046  earthquake   \n",
       "206  -147.7667   64.7974  11700.0        0.9    1.827003  earthquake   \n",
       "217  -141.8599   65.8902  10800.0        2.0    2.115990  earthquake   \n",
       "234  -152.0282   61.0431  97100.0        1.9    4.723777  earthquake   \n",
       "\n",
       "                            time  \n",
       "0    2020-09-09T19:12:06.535000Z  \n",
       "1    2020-09-09T19:02:13.756000Z  \n",
       "2    2020-09-09T15:29:05.744000Z  \n",
       "3    2020-09-09T11:12:10.065000Z  \n",
       "4    2020-09-09T10:00:10.896000Z  \n",
       "..                           ...  \n",
       "199  2020-09-01T04:09:28.470000Z  \n",
       "204  2020-09-09T02:02:00.010000Z  \n",
       "206  2020-09-07T21:47:51.243000Z  \n",
       "217  2020-09-04T23:44:01.585000Z  \n",
       "234  2020-09-08T11:59:14.009000Z  \n",
       "\n",
       "[204 rows x 7 columns]"
      ]
     },
     "execution_count": 5,
     "metadata": {},
     "output_type": "execute_result"
    }
   ],
   "source": [
    "bh_catalog"
   ]
  },
  {
   "cell_type": "code",
   "execution_count": 6,
   "metadata": {},
   "outputs": [],
   "source": [
    "def threshold_trigger(th,record_time,trace):\n",
    "    record_number=record_time*trace.stats.sampling_rate\n",
    "    abs_st_data=np.abs(trace.data)\n",
    "    ind_th=[]\n",
    "    recording=False\n",
    "    for i,abs_st in enumerate(abs_st_data):\n",
    "        if abs_st>th and recording is False:\n",
    "            ind_th.append(i)\n",
    "            recording=True\n",
    "        if ind_th!=[] and (i-ind_th[-1])>record_number:\n",
    "            recording=False\n",
    "    return len(ind_th),ind_th\n",
    "\n",
    "def cal_bhcat_t(bh_catalog):\n",
    "    cat_arl_t=[]\n",
    "    cat_arl_i=[]\n",
    "    for i in bh_catalog.index:\n",
    "        arrivals = model.get_travel_times(source_depth_in_km=bh_catalog.loc[i,'depth']/1000,\n",
    "                                    distance_in_degree=bh_catalog.loc[i,'disD'])    \n",
    "        picker_time=bh_catalog.loc[i,'time']+arrivals[0].time-trace.stats.starttime\n",
    "        cat_arl_t.append(picker_time)\n",
    "        cat_arl_i.append(i)\n",
    "    return cat_arl_t,cat_arl_i\n",
    "\n",
    "\n",
    "def event_associate(pre_time,after_time,cat_arl_t,t,ind_th,cat_arl_i):\n",
    "    n_recorded=0\n",
    "    index_triggered=[]\n",
    "    index_cat=[]\n",
    "    for i in ind_th:\n",
    "        for j,cat_t in enumerate(cat_arl_t):\n",
    "            if cat_t>t[i]-pre_time and cat_t<t[i]+after_time:\n",
    "                n_recorded=n_recorded+1\n",
    "                index_triggered.append(cat_arl_i[j])\n",
    "                index_cat.append(j)\n",
    "                break\n",
    "    return n_recorded,index_triggered,index_cat\n",
    "def threshold_trigger_w_avg(th_fold,record_time,trace,window_len):\n",
    "    record_number=record_time*trace.stats.sampling_rate\n",
    "    abs_st_data=np.abs(trace.data)\n",
    "    ind_th=[]\n",
    "    recording=False\n",
    "    rtt=0\n",
    "    cm_sum=0\n",
    "    ltavg=np.sum(abs_st_data[0:window_len])/window_len\n",
    "    for i,abs_st in enumerate(abs_st_data):\n",
    "        rtt=rtt+1\n",
    "        if rtt>window_len:\n",
    "            rtt=0\n",
    "            ltavg=cm_sum/window_len\n",
    "            #print(ltavg)\n",
    "            cm_sum=abs_st\n",
    "        cm_sum=cm_sum+abs_st\n",
    "        if abs_st>th_fold*ltavg and recording is False:\n",
    "            ind_th.append(i)\n",
    "            recording=True\n",
    "        if ind_th!=[] and (i-ind_th[-1])>record_number:\n",
    "            recording=False\n",
    "    return len(ind_th),ind_th"
   ]
  },
  {
   "cell_type": "code",
   "execution_count": 7,
   "metadata": {},
   "outputs": [],
   "source": [
    "cat_arl_t,cat_arl_i=cal_bhcat_t(bh_catalog)"
   ]
  },
  {
   "cell_type": "markdown",
   "metadata": {},
   "source": [
    "Performance compare"
   ]
  },
  {
   "cell_type": "code",
   "execution_count": 8,
   "metadata": {},
   "outputs": [
    {
     "data": {
      "application/vnd.jupyter.widget-view+json": {
       "model_id": "dc6665e52cfb48f4bebeb16307001e6a",
       "version_major": 2,
       "version_minor": 0
      },
      "text/plain": [
       "Canvas(toolbar=Toolbar(toolitems=[('Home', 'Reset original view', 'home', 'home'), ('Back', 'Back to previous …"
      ]
     },
     "metadata": {},
     "output_type": "display_data"
    },
    {
     "data": {
      "text/plain": [
       "[<matplotlib.lines.Line2D at 0x7fd64892b390>]"
      ]
     },
     "execution_count": 8,
     "metadata": {},
     "output_type": "execute_result"
    }
   ],
   "source": [
    "#st_10day2.filter('bandpass',freqmin=0.8, freqmax=25.0)\n",
    "fmin=2\n",
    "fmax=8\n",
    "st_10day2=st_10day.copy()\n",
    "st_10day2.merge(method=0,fill_value=0)\n",
    "st_10day2.detrend()\n",
    "st_10day2.filter('bandpass',freqmin=fmin, freqmax=fmax)\n",
    "trace=st_10day2[0]\n",
    "pre_time=80\n",
    "after_time=10\n",
    "th_fold=200\n",
    "th=200\n",
    "record_time=60*30\n",
    "fminay=np.arange(0.02,10,0.4)\n",
    "window_len=50*60*2\n",
    "#th_a=range(30,210,30)\n",
    "th_a=[30,40,50,70,90,120,150,180,200]\n",
    "n_thres=[]\n",
    "n_tr_thres=[]\n",
    "pect_thres=[]\n",
    "n_event=[]\n",
    "for th in th_a:\n",
    "    n_dum,ind_th=threshold_trigger(th,record_time,trace)\n",
    "    n_recorded,index_triggered,index_cat=event_associate(pre_time,after_time,cat_arl_t,t,ind_th,cat_arl_i)\n",
    "    n_thres.append(n_recorded)\n",
    "    n_tr_thres.append(n_dum)\n",
    "    n_event.append(len(cat_arl_t))\n",
    "    pect_thres.append(n_recorded/n_dum)\n",
    "plt.figure()\n",
    "plt.plot(n_tr_thres,pect_thres)"
   ]
  },
  {
   "cell_type": "code",
   "execution_count": 9,
   "metadata": {},
   "outputs": [
    {
     "data": {
      "application/vnd.jupyter.widget-view+json": {
       "model_id": "8444a239e2c845589c5af5558771e2b1",
       "version_major": 2,
       "version_minor": 0
      },
      "text/plain": [
       "Canvas(toolbar=Toolbar(toolitems=[('Home', 'Reset original view', 'home', 'home'), ('Back', 'Back to previous …"
      ]
     },
     "metadata": {},
     "output_type": "display_data"
    },
    {
     "data": {
      "text/plain": [
       "[<matplotlib.lines.Line2D at 0x7fd64890a5f8>]"
      ]
     },
     "execution_count": 9,
     "metadata": {},
     "output_type": "execute_result"
    }
   ],
   "source": [
    "pre_time=80\n",
    "after_time=10\n",
    "th_fold=200\n",
    "th=200\n",
    "record_time=60*30\n",
    "rest_time=30*60\n",
    "window_len=50*60*2\n",
    "th_a=range(20,200,10)\n",
    "n_sw=[]\n",
    "n_tr_sw=[]\n",
    "pect_sw=[]\n",
    "n_event_sw=[]\n",
    "for th in th_a:\n",
    "    #n_dum,ind_th=threshold_trigger(th,record_time,trace)\n",
    "    n_dum,ind_th=threshold_trigger_w_avg(th,rest_time,trace,window_len)\n",
    "    n_recorded,index_triggered,index_cat=event_associate(pre_time,after_time,cat_arl_t,t,ind_th,cat_arl_i)\n",
    "    n_sw.append(n_recorded)\n",
    "    n_tr_sw.append(n_dum)\n",
    "    n_event_sw.append(len(cat_arl_t))\n",
    "    pect_sw.append(n_recorded/n_dum)\n",
    "plt.figure()\n",
    "plt.plot(n_tr_sw,pect_sw)"
   ]
  },
  {
   "cell_type": "code",
   "execution_count": 10,
   "metadata": {},
   "outputs": [],
   "source": [
    "def threshold_trigger_cft(th,record_time,trace,cft):\n",
    "    record_number=record_time*trace.stats.sampling_rate\n",
    "    abs_st_data=cft\n",
    "    ind_th=[]\n",
    "    recording=False\n",
    "    for i,abs_st in enumerate(abs_st_data):\n",
    "        if abs_st>th and recording is False:\n",
    "            ind_th.append(i)\n",
    "            recording=True\n",
    "        if ind_th!=[] and (i-ind_th[-1])>record_number:\n",
    "            recording=False\n",
    "    return len(ind_th),ind_th"
   ]
  },
  {
   "cell_type": "code",
   "execution_count": 20,
   "metadata": {},
   "outputs": [
    {
     "name": "stderr",
     "output_type": "stream",
     "text": [
      "/Users/yuantian/anaconda3/envs/obspy/lib/python3.7/site-packages/obspy/signal/filter.py:67: UserWarning: Selected high corner frequency (25) of bandpass is at or above Nyquist (25.0). Applying a high-pass instead.\n",
      "  warnings.warn(msg)\n"
     ]
    },
    {
     "data": {
      "application/vnd.jupyter.widget-view+json": {
       "model_id": "5e98aa39dc7b4c33bf5f000ea0d2a639",
       "version_major": 2,
       "version_minor": 0
      },
      "text/plain": [
       "Canvas(toolbar=Toolbar(toolitems=[('Home', 'Reset original view', 'home', 'home'), ('Back', 'Back to previous …"
      ]
     },
     "metadata": {},
     "output_type": "display_data"
    },
    {
     "data": {
      "text/plain": [
       "[<matplotlib.lines.Line2D at 0x7fd5e90359b0>]"
      ]
     },
     "execution_count": 20,
     "metadata": {},
     "output_type": "execute_result"
    }
   ],
   "source": [
    "cft\n",
    "#st_10day2.filter('bandpass',freqmin=0.8, freqmax=25.0)\n",
    "fmin=0.8\n",
    "fmax=25\n",
    "st_10day2=st_10day.copy()\n",
    "st_10day2.merge(method=0,fill_value=0)\n",
    "st_10day2.detrend()\n",
    "st_10day2.filter('bandpass',freqmin=fmin, freqmax=fmax)\n",
    "trace=st_10day2[0]\n",
    "pre_time=80\n",
    "after_time=10\n",
    "th_fold=200\n",
    "th=200\n",
    "record_time=60*30\n",
    "fminay=np.arange(0.02,10,0.4)\n",
    "window_len=50*60*2\n",
    "#th_a=range(30,210,30)\n",
    "#th_a=[30,40,50,70,90,120,150,180,200]\n",
    "th_a=np.arange(1.57,1.99,0.03)\n",
    "cft = recursive_sta_lta(trace.data, int(5 * df), int(10 * df))\n",
    "n_thres_cft=[]\n",
    "n_tr_thres_cft=[]\n",
    "pect_thres_cft=[]\n",
    "n_event_cft=[]\n",
    "for th in th_a:\n",
    "    n_dum,ind_th=threshold_trigger_cft(th,record_time,trace,cft)\n",
    "    n_recorded,index_triggered,index_cat=event_associate(pre_time,after_time,cat_arl_t,t,ind_th,cat_arl_i)\n",
    "    n_thres_cft.append(n_recorded)\n",
    "    n_tr_thres_cft.append(n_dum)\n",
    "    n_event_cft.append(len(cat_arl_t))\n",
    "    pect_thres_cft.append(n_recorded/n_dum)\n",
    "plt.figure()\n",
    "plt.plot(n_tr_thres_cft,pect_thres_cft)"
   ]
  },
  {
   "cell_type": "code",
   "execution_count": 28,
   "metadata": {},
   "outputs": [
    {
     "data": {
      "application/vnd.jupyter.widget-view+json": {
       "model_id": "f1940eaca4834e578547aeca94d75e02",
       "version_major": 2,
       "version_minor": 0
      },
      "text/plain": [
       "Canvas(toolbar=Toolbar(toolitems=[('Home', 'Reset original view', 'home', 'home'), ('Back', 'Back to previous …"
      ]
     },
     "metadata": {},
     "output_type": "display_data"
    },
    {
     "data": {
      "text/plain": [
       "<matplotlib.legend.Legend at 0x7fd5b8ce0a90>"
      ]
     },
     "execution_count": 28,
     "metadata": {},
     "output_type": "execute_result"
    }
   ],
   "source": [
    "plt.figure(figsize=(8,10))\n",
    "plt.subplot(3,1,1)\n",
    "plt.plot(n_tr_sw,pect_sw,'r-o')\n",
    "plt.plot(n_tr_thres,pect_thres,'k-o')\n",
    "plt.plot(n_tr_thres_cft,pect_thres_cft,'b-o')\n",
    "plt.ylabel('true positive rate')\n",
    "#plt.xlabel('number of triggers')\n",
    "plt.legend(['Segmented window','Threshold','STA/LTA'])\n",
    "plt.subplot(3,1,2)\n",
    "plt.plot(n_tr_sw,1-np.array(pect_sw),'r-o')\n",
    "plt.plot(n_tr_thres,1-np.array(pect_thres),'k-o')\n",
    "plt.plot(n_tr_thres_cft,1-np.array(pect_thres_cft),'b-o')\n",
    "plt.ylabel('flase positive rate')\n",
    "#plt.xlabel('number of triggers')\n",
    "plt.legend(['Segmented window','Threshold','STA/LTA'])\n",
    "\n",
    "plt.subplot(3,1,3)\n",
    "plt.plot(n_tr_sw,(n_event_cft[0]-np.array(n_sw))/n_event_cft[0],'r-o')\n",
    "plt.plot(n_tr_thres,(n_event_cft[0]-np.array(n_thres))/n_event_cft[0],'k-o')\n",
    "plt.plot(n_tr_thres_cft,(n_event_cft[0]-np.array(n_thres_cft))/n_event_cft[0],'b-o')\n",
    "plt.ylabel('true negative rate')\n",
    "plt.xlabel('number of triggers')\n",
    "plt.legend(['Segmented window','Threshold','STA/LTA'])\n"
   ]
  }
 ],
 "metadata": {
  "interpreter": {
   "hash": "c71a260edab3fcf64a811359c50653f22ebe325a9efcb1a4563b0bac5f87d06d"
  },
  "kernelspec": {
   "display_name": "Python 3.7.3 ('obspy')",
   "language": "python",
   "name": "python3"
  },
  "language_info": {
   "codemirror_mode": {
    "name": "ipython",
    "version": 3
   },
   "file_extension": ".py",
   "mimetype": "text/x-python",
   "name": "python",
   "nbconvert_exporter": "python",
   "pygments_lexer": "ipython3",
   "version": "3.7.3"
  },
  "orig_nbformat": 4
 },
 "nbformat": 4,
 "nbformat_minor": 2
}
